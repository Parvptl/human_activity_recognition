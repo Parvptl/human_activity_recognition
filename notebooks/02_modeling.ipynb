{
 "cells": [
  {
   "cell_type": "markdown",
   "id": "299d7a1a",
   "metadata": {},
   "source": [
    "**Logistic Regression & Naive Bayes Classification**"
   ]
  },
  {
   "cell_type": "code",
   "execution_count": 20,
   "id": "ac36c3ff",
   "metadata": {},
   "outputs": [],
   "source": [
    "import pandas as pd\n",
    "import numpy as np\n",
    "import matplotlib.pyplot as plt\n",
    "import seaborn as sns\n",
    "import warnings\n",
    "warnings.filterwarnings('ignore')\n",
    "\n",
    "from sklearn.linear_model import LogisticRegression\n",
    "from sklearn.naive_bayes import GaussianNB\n",
    "from sklearn.preprocessing import StandardScaler\n",
    "from sklearn.metrics import (accuracy_score, classification_report, \n",
    "                           confusion_matrix, f1_score, precision_score, \n",
    "                           recall_score)\n",
    "from sklearn.model_selection import cross_val_score\n",
    "import time"
   ]
  },
  {
   "cell_type": "markdown",
   "id": "b476d950",
   "metadata": {},
   "source": [
    "**Load the Preprocessed Data**"
   ]
  },
  {
   "cell_type": "code",
   "execution_count": 21,
   "id": "469bbf34",
   "metadata": {},
   "outputs": [
    {
     "name": "stdout",
     "output_type": "stream",
     "text": [
      "Shape of training data: (7352, 563)\n",
      "Number of features: 562\n",
      "Number of samples: 7352\n"
     ]
    },
    {
     "data": {
      "text/html": [
       "<div>\n",
       "<style scoped>\n",
       "    .dataframe tbody tr th:only-of-type {\n",
       "        vertical-align: middle;\n",
       "    }\n",
       "\n",
       "    .dataframe tbody tr th {\n",
       "        vertical-align: top;\n",
       "    }\n",
       "\n",
       "    .dataframe thead th {\n",
       "        text-align: right;\n",
       "    }\n",
       "</style>\n",
       "<table border=\"1\" class=\"dataframe\">\n",
       "  <thead>\n",
       "    <tr style=\"text-align: right;\">\n",
       "      <th></th>\n",
       "      <th>tBodyAcc-mean()-X</th>\n",
       "      <th>tBodyAcc-mean()-Y</th>\n",
       "      <th>tBodyAcc-mean()-Z</th>\n",
       "      <th>tBodyAcc-std()-X</th>\n",
       "      <th>tBodyAcc-std()-Y</th>\n",
       "      <th>tBodyAcc-std()-Z</th>\n",
       "      <th>tBodyAcc-mad()-X</th>\n",
       "      <th>tBodyAcc-mad()-Y</th>\n",
       "      <th>tBodyAcc-mad()-Z</th>\n",
       "      <th>tBodyAcc-max()-X</th>\n",
       "      <th>...</th>\n",
       "      <th>fBodyBodyGyroJerkMag-kurtosis()</th>\n",
       "      <th>angle(tBodyAccMean,gravity)</th>\n",
       "      <th>angle(tBodyAccJerkMean),gravityMean)</th>\n",
       "      <th>angle(tBodyGyroMean,gravityMean)</th>\n",
       "      <th>angle(tBodyGyroJerkMean,gravityMean)</th>\n",
       "      <th>angle(X,gravityMean)</th>\n",
       "      <th>angle(Y,gravityMean)</th>\n",
       "      <th>angle(Z,gravityMean)</th>\n",
       "      <th>subject</th>\n",
       "      <th>Activity</th>\n",
       "    </tr>\n",
       "  </thead>\n",
       "  <tbody>\n",
       "    <tr>\n",
       "      <th>0</th>\n",
       "      <td>0.288585</td>\n",
       "      <td>-0.020294</td>\n",
       "      <td>-0.132905</td>\n",
       "      <td>-0.995279</td>\n",
       "      <td>-0.983111</td>\n",
       "      <td>-0.913526</td>\n",
       "      <td>-0.995112</td>\n",
       "      <td>-0.983185</td>\n",
       "      <td>-0.923527</td>\n",
       "      <td>-0.934724</td>\n",
       "      <td>...</td>\n",
       "      <td>-0.710304</td>\n",
       "      <td>-0.112754</td>\n",
       "      <td>0.030400</td>\n",
       "      <td>-0.464761</td>\n",
       "      <td>-0.018446</td>\n",
       "      <td>-0.841247</td>\n",
       "      <td>0.179941</td>\n",
       "      <td>-0.058627</td>\n",
       "      <td>1</td>\n",
       "      <td>2</td>\n",
       "    </tr>\n",
       "    <tr>\n",
       "      <th>1</th>\n",
       "      <td>0.278419</td>\n",
       "      <td>-0.016411</td>\n",
       "      <td>-0.123520</td>\n",
       "      <td>-0.998245</td>\n",
       "      <td>-0.975300</td>\n",
       "      <td>-0.960322</td>\n",
       "      <td>-0.998807</td>\n",
       "      <td>-0.974914</td>\n",
       "      <td>-0.957686</td>\n",
       "      <td>-0.943068</td>\n",
       "      <td>...</td>\n",
       "      <td>-0.861499</td>\n",
       "      <td>0.053477</td>\n",
       "      <td>-0.007435</td>\n",
       "      <td>-0.732626</td>\n",
       "      <td>0.703511</td>\n",
       "      <td>-0.844788</td>\n",
       "      <td>0.180289</td>\n",
       "      <td>-0.054317</td>\n",
       "      <td>1</td>\n",
       "      <td>2</td>\n",
       "    </tr>\n",
       "    <tr>\n",
       "      <th>2</th>\n",
       "      <td>0.279653</td>\n",
       "      <td>-0.019467</td>\n",
       "      <td>-0.113462</td>\n",
       "      <td>-0.995380</td>\n",
       "      <td>-0.967187</td>\n",
       "      <td>-0.978944</td>\n",
       "      <td>-0.996520</td>\n",
       "      <td>-0.963668</td>\n",
       "      <td>-0.977469</td>\n",
       "      <td>-0.938692</td>\n",
       "      <td>...</td>\n",
       "      <td>-0.760104</td>\n",
       "      <td>-0.118559</td>\n",
       "      <td>0.177899</td>\n",
       "      <td>0.100699</td>\n",
       "      <td>0.808529</td>\n",
       "      <td>-0.848933</td>\n",
       "      <td>0.180637</td>\n",
       "      <td>-0.049118</td>\n",
       "      <td>1</td>\n",
       "      <td>2</td>\n",
       "    </tr>\n",
       "    <tr>\n",
       "      <th>3</th>\n",
       "      <td>0.279174</td>\n",
       "      <td>-0.026201</td>\n",
       "      <td>-0.123283</td>\n",
       "      <td>-0.996091</td>\n",
       "      <td>-0.983403</td>\n",
       "      <td>-0.990675</td>\n",
       "      <td>-0.997099</td>\n",
       "      <td>-0.982750</td>\n",
       "      <td>-0.989302</td>\n",
       "      <td>-0.938692</td>\n",
       "      <td>...</td>\n",
       "      <td>-0.482845</td>\n",
       "      <td>-0.036788</td>\n",
       "      <td>-0.012892</td>\n",
       "      <td>0.640011</td>\n",
       "      <td>-0.485366</td>\n",
       "      <td>-0.848649</td>\n",
       "      <td>0.181935</td>\n",
       "      <td>-0.047663</td>\n",
       "      <td>1</td>\n",
       "      <td>2</td>\n",
       "    </tr>\n",
       "    <tr>\n",
       "      <th>4</th>\n",
       "      <td>0.276629</td>\n",
       "      <td>-0.016570</td>\n",
       "      <td>-0.115362</td>\n",
       "      <td>-0.998139</td>\n",
       "      <td>-0.980817</td>\n",
       "      <td>-0.990482</td>\n",
       "      <td>-0.998321</td>\n",
       "      <td>-0.979672</td>\n",
       "      <td>-0.990441</td>\n",
       "      <td>-0.942469</td>\n",
       "      <td>...</td>\n",
       "      <td>-0.699205</td>\n",
       "      <td>0.123320</td>\n",
       "      <td>0.122542</td>\n",
       "      <td>0.693578</td>\n",
       "      <td>-0.615971</td>\n",
       "      <td>-0.847865</td>\n",
       "      <td>0.185151</td>\n",
       "      <td>-0.043892</td>\n",
       "      <td>1</td>\n",
       "      <td>2</td>\n",
       "    </tr>\n",
       "  </tbody>\n",
       "</table>\n",
       "<p>5 rows × 563 columns</p>\n",
       "</div>"
      ],
      "text/plain": [
       "   tBodyAcc-mean()-X  tBodyAcc-mean()-Y  tBodyAcc-mean()-Z  tBodyAcc-std()-X  \\\n",
       "0           0.288585          -0.020294          -0.132905         -0.995279   \n",
       "1           0.278419          -0.016411          -0.123520         -0.998245   \n",
       "2           0.279653          -0.019467          -0.113462         -0.995380   \n",
       "3           0.279174          -0.026201          -0.123283         -0.996091   \n",
       "4           0.276629          -0.016570          -0.115362         -0.998139   \n",
       "\n",
       "   tBodyAcc-std()-Y  tBodyAcc-std()-Z  tBodyAcc-mad()-X  tBodyAcc-mad()-Y  \\\n",
       "0         -0.983111         -0.913526         -0.995112         -0.983185   \n",
       "1         -0.975300         -0.960322         -0.998807         -0.974914   \n",
       "2         -0.967187         -0.978944         -0.996520         -0.963668   \n",
       "3         -0.983403         -0.990675         -0.997099         -0.982750   \n",
       "4         -0.980817         -0.990482         -0.998321         -0.979672   \n",
       "\n",
       "   tBodyAcc-mad()-Z  tBodyAcc-max()-X  ...  fBodyBodyGyroJerkMag-kurtosis()  \\\n",
       "0         -0.923527         -0.934724  ...                        -0.710304   \n",
       "1         -0.957686         -0.943068  ...                        -0.861499   \n",
       "2         -0.977469         -0.938692  ...                        -0.760104   \n",
       "3         -0.989302         -0.938692  ...                        -0.482845   \n",
       "4         -0.990441         -0.942469  ...                        -0.699205   \n",
       "\n",
       "   angle(tBodyAccMean,gravity)  angle(tBodyAccJerkMean),gravityMean)  \\\n",
       "0                    -0.112754                              0.030400   \n",
       "1                     0.053477                             -0.007435   \n",
       "2                    -0.118559                              0.177899   \n",
       "3                    -0.036788                             -0.012892   \n",
       "4                     0.123320                              0.122542   \n",
       "\n",
       "   angle(tBodyGyroMean,gravityMean)  angle(tBodyGyroJerkMean,gravityMean)  \\\n",
       "0                         -0.464761                             -0.018446   \n",
       "1                         -0.732626                              0.703511   \n",
       "2                          0.100699                              0.808529   \n",
       "3                          0.640011                             -0.485366   \n",
       "4                          0.693578                             -0.615971   \n",
       "\n",
       "   angle(X,gravityMean)  angle(Y,gravityMean)  angle(Z,gravityMean)  subject  \\\n",
       "0             -0.841247              0.179941             -0.058627        1   \n",
       "1             -0.844788              0.180289             -0.054317        1   \n",
       "2             -0.848933              0.180637             -0.049118        1   \n",
       "3             -0.848649              0.181935             -0.047663        1   \n",
       "4             -0.847865              0.185151             -0.043892        1   \n",
       "\n",
       "   Activity  \n",
       "0         2  \n",
       "1         2  \n",
       "2         2  \n",
       "3         2  \n",
       "4         2  \n",
       "\n",
       "[5 rows x 563 columns]"
      ]
     },
     "execution_count": 21,
     "metadata": {},
     "output_type": "execute_result"
    }
   ],
   "source": [
    "plt.style.use('seaborn-v0_8-darkgrid')\n",
    "sns.set_palette(\"husl\")\n",
    "\n",
    "train_df = pd.read_csv('../data/cleaned_train.csv')\n",
    "\n",
    "print(f\"Shape of training data: {train_df.shape}\")\n",
    "print(f\"Number of features: {train_df.shape[1] - 1}\")\n",
    "print(f\"Number of samples: {train_df.shape[0]}\")\n",
    "\n",
    "train_df.head()"
   ]
  },
  {
   "cell_type": "markdown",
   "id": "c19017d1",
   "metadata": {},
   "source": [
    "**Data Preparation**"
   ]
  },
  {
   "cell_type": "code",
   "execution_count": 22,
   "id": "09ff90f3",
   "metadata": {},
   "outputs": [
    {
     "name": "stdout",
     "output_type": "stream",
     "text": [
      "Feature matrix shape: (7352, 562)\n",
      "Target vector shape: (7352,)\n",
      "\n",
      "Target distribution:\n",
      "Activity\n",
      "0    1407\n",
      "1    1286\n",
      "2    1374\n",
      "3    1226\n",
      "4     986\n",
      "5    1073\n",
      "Name: count, dtype: int64\n",
      "\n",
      "Number of activity classes: 6\n"
     ]
    }
   ],
   "source": [
    "X_train = train_df.drop('Activity', axis=1)\n",
    "y_train = train_df['Activity']\n",
    "\n",
    "print(\"Feature matrix shape:\", X_train.shape)\n",
    "print(\"Target vector shape:\", y_train.shape)\n",
    "print(\"\\nTarget distribution:\")\n",
    "print(y_train.value_counts().sort_index())\n",
    "\n",
    "n_classes = y_train.nunique()\n",
    "print(f\"\\nNumber of activity classes: {n_classes}\")"
   ]
  },
  {
   "cell_type": "markdown",
   "id": "e9e91a48",
   "metadata": {},
   "source": [
    "**Feature Scaling For logistic regression**"
   ]
  },
  {
   "cell_type": "code",
   "execution_count": 23,
   "id": "a5bcaa37",
   "metadata": {},
   "outputs": [],
   "source": [
    "scaler = StandardScaler()\n",
    "X_train_scaled = scaler.fit_transform(X_train)"
   ]
  },
  {
   "cell_type": "markdown",
   "id": "34df884a",
   "metadata": {},
   "source": [
    "**Model Training - Logistic Regression**"
   ]
  },
  {
   "cell_type": "code",
   "execution_count": 24,
   "id": "8366764b",
   "metadata": {},
   "outputs": [
    {
     "name": "stdout",
     "output_type": "stream",
     "text": [
      "Training completed in 6.01 seconds\n"
     ]
    }
   ],
   "source": [
    "# Initialize Logistic Regression\n",
    "# Using 'lbfgs' solver for multiclass, increased max_iter for convergence\n",
    "\n",
    "lr_model = LogisticRegression(\n",
    "    max_iter=1000,\n",
    "    multi_class='multinomial',\n",
    "    solver='lbfgs',\n",
    "    random_state=42,\n",
    "    n_jobs=-1  # all CPU cores usage\n",
    ")\n",
    "\n",
    "# Train the model\n",
    "\n",
    "start_time = time.time()\n",
    "lr_model.fit(X_train_scaled, y_train)\n",
    "lr_train_time = time.time() - start_time\n",
    "\n",
    "print(f\"Training completed in {lr_train_time:.2f} seconds\")"
   ]
  },
  {
   "cell_type": "markdown",
   "id": "70f61f1b",
   "metadata": {},
   "source": [
    "**Model Training - Naive Bayes**"
   ]
  },
  {
   "cell_type": "markdown",
   "id": "9864ba16",
   "metadata": {},
   "source": [
    "**Evaluation of  Logistic Regression on Training Data**"
   ]
  },
  {
   "cell_type": "code",
   "execution_count": 25,
   "id": "acf58124",
   "metadata": {},
   "outputs": [
    {
     "name": "stdout",
     "output_type": "stream",
     "text": [
      "Accuracy:  0.9962\n",
      "Precision: 0.9962\n",
      "Recall:    0.9962\n",
      "F1-Score:  0.9962\n"
     ]
    }
   ],
   "source": [
    "# Make predictions\n",
    "y_pred_lr = lr_model.predict(X_train_scaled)\n",
    "\n",
    "# Calculate metrics\n",
    "lr_accuracy = accuracy_score(y_train, y_pred_lr)\n",
    "lr_precision = precision_score(y_train, y_pred_lr, average='weighted')\n",
    "lr_recall = recall_score(y_train, y_pred_lr, average='weighted')\n",
    "lr_f1 = f1_score(y_train, y_pred_lr, average='weighted')\n",
    "\n",
    "print(f\"Accuracy:  {lr_accuracy:.4f}\")\n",
    "print(f\"Precision: {lr_precision:.4f}\")\n",
    "print(f\"Recall:    {lr_recall:.4f}\")\n",
    "print(f\"F1-Score:  {lr_f1:.4f}\")"
   ]
  },
  {
   "cell_type": "markdown",
   "id": "9541ba46",
   "metadata": {},
   "source": [
    "**Cross-Validation for Logistic Regression**"
   ]
  },
  {
   "cell_type": "code",
   "execution_count": 26,
   "id": "0d20a0c9",
   "metadata": {},
   "outputs": [
    {
     "name": "stdout",
     "output_type": "stream",
     "text": [
      "Cross-validation scores: [0.92386132 0.89055065 0.94421769 0.94965986 0.96326531]\n",
      "Mean CV Accuracy: 0.9343 (+/- 0.0506)\n"
     ]
    }
   ],
   "source": [
    "cv_scores_lr = cross_val_score(lr_model, X_train_scaled, y_train, cv=5, scoring='accuracy', n_jobs=-1)\n",
    "\n",
    "print(f\"Cross-validation scores: {cv_scores_lr}\")\n",
    "print(f\"Mean CV Accuracy: {cv_scores_lr.mean():.4f} (+/- {cv_scores_lr.std() * 2:.4f})\")"
   ]
  },
  {
   "cell_type": "markdown",
   "id": "4969acb2",
   "metadata": {},
   "source": [
    "**Confusion Matrix - Logistic Regression**"
   ]
  },
  {
   "cell_type": "code",
   "execution_count": 27,
   "id": "38977bd0",
   "metadata": {},
   "outputs": [
    {
     "data": {
      "image/png": "[encoded data removed]",
      "text/plain": [
       "<Figure size 1000x800 with 2 Axes>"
      ]
     },
     "metadata": {},
     "output_type": "display_data"
    },
    {
     "name": "stdout",
     "output_type": "stream",
     "text": [
      "\n",
      "Classification Report - Logistic Regression:\n",
      "============================================================\n",
      "              precision    recall  f1-score   support\n",
      "\n",
      "           0     1.0000    1.0000    1.0000      1407\n",
      "           1     0.9884    0.9899    0.9891      1286\n",
      "           2     0.9905    0.9891    0.9898      1374\n",
      "           3     1.0000    1.0000    1.0000      1226\n",
      "           4     1.0000    1.0000    1.0000       986\n",
      "           5     1.0000    1.0000    1.0000      1073\n",
      "\n",
      "    accuracy                         0.9962      7352\n",
      "   macro avg     0.9965    0.9965    0.9965      7352\n",
      "weighted avg     0.9962    0.9962    0.9962      7352\n",
      "\n"
     ]
    }
   ],
   "source": [
    "# Create confusion matrix\n",
    "cm_lr = confusion_matrix(y_train, y_pred_lr)\n",
    "\n",
    "# Plot confusion matrix\n",
    "plt.figure(figsize=(10, 8))\n",
    "sns.heatmap(cm_lr, annot=True, fmt='d', cmap='Blues', cbar=True,\n",
    "            xticklabels=range(n_classes), yticklabels=range(n_classes))\n",
    "plt.title('Confusion Matrix - Logistic Regression', fontsize=16)\n",
    "plt.ylabel('True Label', fontsize=12)\n",
    "plt.xlabel('Predicted Label', fontsize=12)\n",
    "plt.show()\n",
    "\n",
    "print(\"\\nClassification Report - Logistic Regression:\")\n",
    "print(\"=\"*60)\n",
    "print(classification_report(y_train, y_pred_lr, digits=4))"
   ]
  },
  {
   "cell_type": "markdown",
   "id": "0a2b0e2c",
   "metadata": {},
   "source": [
    "**Model Training - Naive Bayes**"
   ]
  },
  {
   "cell_type": "code",
   "execution_count": 28,
   "id": "a53ec0d1",
   "metadata": {},
   "outputs": [
    {
     "name": "stdout",
     "output_type": "stream",
     "text": [
      "Training completed in 0.22 seconds\n"
     ]
    }
   ],
   "source": [
    "# Initialize Naive Bayes\n",
    "nb_model = GaussianNB()\n",
    "\n",
    "# Train the model\n",
    "start_time = time.time()\n",
    "nb_model.fit(X_train, y_train)\n",
    "nb_train_time = time.time() - start_time\n",
    "\n",
    "print(f\"Training completed in {nb_train_time:.2f} seconds\")"
   ]
  },
  {
   "cell_type": "markdown",
   "id": "7895ac3a",
   "metadata": {},
   "source": [
    "**Evaluate Naive Bayes on Training Data**"
   ]
  },
  {
   "cell_type": "code",
   "execution_count": 29,
   "id": "1b906cd0",
   "metadata": {},
   "outputs": [
    {
     "name": "stdout",
     "output_type": "stream",
     "text": [
      "Accuracy:  0.7516\n",
      "Precision: 0.7998\n",
      "Recall:    0.7516\n",
      "F1-Score:  0.7534\n"
     ]
    }
   ],
   "source": [
    "# Make predictions\n",
    "y_pred_nb = nb_model.predict(X_train)\n",
    "\n",
    "# Calculate metrics\n",
    "nb_accuracy = accuracy_score(y_train, y_pred_nb)\n",
    "nb_precision = precision_score(y_train, y_pred_nb, average='weighted')\n",
    "nb_recall = recall_score(y_train, y_pred_nb, average='weighted')\n",
    "nb_f1 = f1_score(y_train, y_pred_nb, average='weighted')\n",
    "\n",
    "print(f\"Accuracy:  {nb_accuracy:.4f}\")\n",
    "print(f\"Precision: {nb_precision:.4f}\")\n",
    "print(f\"Recall:    {nb_recall:.4f}\")\n",
    "print(f\"F1-Score:  {nb_f1:.4f}\")"
   ]
  },
  {
   "cell_type": "markdown",
   "id": "d7bde929",
   "metadata": {},
   "source": [
    "**Cross-Validation for Naive Bayes**"
   ]
  },
  {
   "cell_type": "code",
   "execution_count": 30,
   "id": "5d00396b",
   "metadata": {},
   "outputs": [
    {
     "name": "stdout",
     "output_type": "stream",
     "text": [
      "Cross-validation scores: [0.6546567  0.59007478 0.80408163 0.71836735 0.68503401]\n",
      "Mean CV Accuracy: 0.6904 (+/- 0.1416)\n"
     ]
    }
   ],
   "source": [
    "cv_scores_nb = cross_val_score(nb_model, X_train, y_train, cv=5, scoring='accuracy', n_jobs=-1)\n",
    "\n",
    "print(f\"Cross-validation scores: {cv_scores_nb}\")\n",
    "print(f\"Mean CV Accuracy: {cv_scores_nb.mean():.4f} (+/- {cv_scores_nb.std() * 2:.4f})\")"
   ]
  },
  {
   "cell_type": "markdown",
   "id": "3ac6bdd7",
   "metadata": {},
   "source": [
    "**Confusion Matrix - Naive Bayes**"
   ]
  },
  {
   "cell_type": "code",
   "execution_count": 31,
   "id": "8ee7ca7f",
   "metadata": {},
   "outputs": [
    {
     "data": {
      "image/png": "[encoded data removed]",
      "text/plain": [
       "<Figure size 1000x800 with 2 Axes>"
      ]
     },
     "metadata": {},
     "output_type": "display_data"
    },
    {
     "name": "stdout",
     "output_type": "stream",
     "text": [
      "\n",
      "Classification Report - Naive Bayes:\n",
      "============================================================\n",
      "              precision    recall  f1-score   support\n",
      "\n",
      "           0     0.9730    0.5131    0.6719      1407\n",
      "           1     0.5369    0.8033    0.6436      1286\n",
      "           2     0.8358    0.8188    0.8272      1374\n",
      "           3     0.9363    0.7316    0.8214      1226\n",
      "           4     0.7890    0.7890    0.7890       986\n",
      "           5     0.6956    0.9049    0.7866      1073\n",
      "\n",
      "    accuracy                         0.7516      7352\n",
      "   macro avg     0.7944    0.7601    0.7566      7352\n",
      "weighted avg     0.7998    0.7516    0.7534      7352\n",
      "\n"
     ]
    }
   ],
   "source": [
    "# Create confusion matrix\n",
    "cm_nb = confusion_matrix(y_train, y_pred_nb)\n",
    "\n",
    "# Plot confusion matrix\n",
    "plt.figure(figsize=(10, 8))\n",
    "sns.heatmap(cm_nb, annot=True, fmt='d', cmap='Greens', cbar=True,\n",
    "            xticklabels=range(n_classes), yticklabels=range(n_classes))\n",
    "plt.title('Confusion Matrix - Naive Bayes', fontsize=16)\n",
    "plt.ylabel('True Label', fontsize=12)\n",
    "plt.xlabel('Predicted Label', fontsize=12)\n",
    "plt.show()\n",
    "\n",
    "print(\"\\nClassification Report - Naive Bayes:\")\n",
    "print(\"=\"*60)\n",
    "print(classification_report(y_train, y_pred_nb, digits=4))"
   ]
  },
  {
   "cell_type": "markdown",
   "id": "eb4859e9",
   "metadata": {},
   "source": [
    "**Model Comparison**"
   ]
  },
  {
   "cell_type": "code",
   "execution_count": 32,
   "id": "d8ba1eb3",
   "metadata": {},
   "outputs": [
    {
     "data": {
      "text/html": [
       "<div>\n",
       "<style scoped>\n",
       "    .dataframe tbody tr th:only-of-type {\n",
       "        vertical-align: middle;\n",
       "    }\n",
       "\n",
       "    .dataframe tbody tr th {\n",
       "        vertical-align: top;\n",
       "    }\n",
       "\n",
       "    .dataframe thead th {\n",
       "        text-align: right;\n",
       "    }\n",
       "</style>\n",
       "<table border=\"1\" class=\"dataframe\">\n",
       "  <thead>\n",
       "    <tr style=\"text-align: right;\">\n",
       "      <th></th>\n",
       "      <th>Model</th>\n",
       "      <th>Accuracy</th>\n",
       "      <th>Precision</th>\n",
       "      <th>Recall</th>\n",
       "      <th>F1-Score</th>\n",
       "      <th>Training Time (s)</th>\n",
       "      <th>Mean CV Accuracy</th>\n",
       "    </tr>\n",
       "  </thead>\n",
       "  <tbody>\n",
       "    <tr>\n",
       "      <th>0</th>\n",
       "      <td>Logistic Regression</td>\n",
       "      <td>0.9962</td>\n",
       "      <td>0.9962</td>\n",
       "      <td>0.9962</td>\n",
       "      <td>0.9962</td>\n",
       "      <td>6.0121</td>\n",
       "      <td>0.9343</td>\n",
       "    </tr>\n",
       "    <tr>\n",
       "      <th>1</th>\n",
       "      <td>Naive Bayes</td>\n",
       "      <td>0.7516</td>\n",
       "      <td>0.7998</td>\n",
       "      <td>0.7516</td>\n",
       "      <td>0.7534</td>\n",
       "      <td>0.2194</td>\n",
       "      <td>0.6904</td>\n",
       "    </tr>\n",
       "  </tbody>\n",
       "</table>\n",
       "</div>"
      ],
      "text/plain": [
       "                 Model  Accuracy  Precision  Recall  F1-Score  \\\n",
       "0  Logistic Regression    0.9962     0.9962  0.9962    0.9962   \n",
       "1          Naive Bayes    0.7516     0.7998  0.7516    0.7534   \n",
       "\n",
       "   Training Time (s)  Mean CV Accuracy  \n",
       "0             6.0121            0.9343  \n",
       "1             0.2194            0.6904  "
      ]
     },
     "metadata": {},
     "output_type": "display_data"
    }
   ],
   "source": [
    "comparison_data = {\n",
    "    'Model': ['Logistic Regression', 'Naive Bayes'],\n",
    "    'Accuracy': [lr_accuracy, nb_accuracy],\n",
    "    'Precision': [lr_precision, nb_precision],\n",
    "    'Recall': [lr_recall, nb_recall],\n",
    "    'F1-Score': [lr_f1, nb_f1],\n",
    "    'Training Time (s)': [lr_train_time, nb_train_time],\n",
    "    'Mean CV Accuracy': [cv_scores_lr.mean(), cv_scores_nb.mean()]\n",
    "}\n",
    "\n",
    "comparison_df = pd.DataFrame(comparison_data)\n",
    "comparison_df = comparison_df.round(4)\n",
    "\n",
    "display(comparison_df)"
   ]
  },
  {
   "cell_type": "markdown",
   "id": "db22b94d",
   "metadata": {},
   "source": [
    "**Observations Summary**\n",
    "\n",
    "**Logistic Regression:**\n",
    "\n",
    "* Train acc: **99.62%**, CV acc: **93.43% ±5.06%** → mild overfitting\n",
    "* Excellent precision/recall (F1 > 0.989 across classes)\n",
    "* Perfect/near-perfect classification for most activities\n",
    "\n",
    "**Naive Bayes:**\n",
    "\n",
    "* Train acc: **75.16%**, CV acc: **69.04% ±14.16%** → unstable, underperforms\n",
    "* Strong confusion between static activities (standing/sitting)\n",
    "* Independence assumption violated by correlated sensor data\n",
    "\n",
    "We can use Logistic Regression with L1/L2 regularization and feature reduction for better accuracy, and explore ensembles or deep learning in the future.\n"
   ]
  },
  {
   "cell_type": "markdown",
   "id": "560768d5",
   "metadata": {},
   "source": []
  }
 ],
 "metadata": {
  "kernelspec": {
   "display_name": ".venv",
   "language": "python",
   "name": "python3"
  },
  "language_info": {
   "codemirror_mode": {
    "name": "ipython",
    "version": 3
   },
   "file_extension": ".py",
   "mimetype": "text/x-python",
   "name": "python",
   "nbconvert_exporter": "python",
   "pygments_lexer": "ipython3",
   "version": "3.13.7"
  }
 },
 "nbformat": 4,
 "nbformat_minor": 5
}
